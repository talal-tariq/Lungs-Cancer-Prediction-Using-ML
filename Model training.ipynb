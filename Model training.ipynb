{
 "cells": [
  {
   "cell_type": "code",
   "execution_count": 1,
   "id": "7451aacf",
   "metadata": {},
   "outputs": [],
   "source": [
    "import cv2\n",
    "import numpy as np \n",
    "import os"
   ]
  },
  {
   "cell_type": "code",
   "execution_count": 2,
   "id": "e8763ee4",
   "metadata": {},
   "outputs": [],
   "source": [
    "# !pip install opencv-python"
   ]
  },
  {
   "cell_type": "code",
   "execution_count": 3,
   "id": "6921dcf2",
   "metadata": {},
   "outputs": [],
   "source": [
    "def process_images(folder_path, target_size=(400, 400)):\n",
    "    gray_images = []  # Initialize an empty list to store grayscale images\n",
    "    \n",
    "    # Check if the directory exists\n",
    "    if not os.path.exists(folder_path):\n",
    "        print(f\"Directory does not exist: {folder_path}\")\n",
    "        return gray_images\n",
    "\n",
    "    # Iterate through all files in the directory\n",
    "    for filename in os.listdir(folder_path):\n",
    "        if filename.endswith(\".jpg\") or filename.endswith(\".jpeg\") or filename.endswith(\".png\"):\n",
    "            image_path = os.path.join(folder_path, filename)\n",
    "            image = cv2.imread(image_path)\n",
    "            gray_image = cv2.cvtColor(image, cv2.COLOR_BGR2GRAY)\n",
    "            resized_gray_image = cv2.resize(gray_image, target_size)\n",
    "            gray_images.append(resized_gray_image)  # Append the resized grayscale image to the list\n",
    "            \n",
    "    # Recursively process images in subdirectories\n",
    "    for subdir in os.listdir(folder_path): \n",
    "        subfolder_path = os.path.join(folder_path, subdir)\n",
    "        \n",
    "        if os.path.isdir(subfolder_path):\n",
    "            gray_images.extend(process_images(subfolder_path, target_size))  # Extend the list with grayscale images from subdirectories\n",
    "    \n",
    "    return gray_images  # Return the list of grayscale images\n",
    "\n",
    "# Path to the main directory containing the subdirectories with images\n",
    "main_path = \"The IQ-OTHNCCD lung cancer dataset\"\n",
    "gray_images = []\n",
    "\n",
    "# Process images from each subdirectory within the main directory\n",
    "subdirectories = [\"Bengin cases\", \"Malignant cases\", \"Normal cases\"]\n",
    "for subdirectory in subdirectories:\n",
    "    path = os.path.join(main_path, subdirectory)\n",
    "    if os.path.exists(path):\n",
    "        gray_images.extend(process_images(path))\n",
    "    else:\n",
    "        print(f\"Subdirectory does not exist: {path}\")\n",
    "\n"
   ]
  },
  {
   "cell_type": "code",
   "execution_count": 4,
   "id": "78b27d45",
   "metadata": {},
   "outputs": [
    {
     "name": "stdout",
     "output_type": "stream",
     "text": [
      "(1097, 160000)\n",
      "[2. 2. 2. ... 0. 0. 0.]\n"
     ]
    }
   ],
   "source": [
    "# Convert the list of images to a NumPy array\n",
    "gray_arr = np.array(gray_images)\n",
    "\n",
    "# Create a new array to store the flattened images\n",
    "flattened_images = np.empty((len(gray_arr), gray_arr[0].size))\n",
    "\n",
    "# Flatten each image in the array\n",
    "for i in range(len(gray_arr)):\n",
    "    flattened_images[i] = gray_arr[i].flatten()\n",
    "\n",
    "# Check the shape of the array after flattening\n",
    "print(flattened_images.shape)\n",
    "\n",
    "# Create the label array\n",
    "y = np.zeros(1097)\n",
    "y[0:119] = 2\n",
    "y[120:680] = 1\n",
    "y[681:1096] = 0\n",
    "\n",
    "print(y)"
   ]
  },
  {
   "cell_type": "code",
   "execution_count": 5,
   "id": "bd2e63d4",
   "metadata": {},
   "outputs": [],
   "source": [
    "import numpy as np\n",
    "from sklearn.decomposition import PCA\n",
    "from sklearn.model_selection import train_test_split\n",
    "pca=PCA(n_components=120)\n",
    "pca.fit (flattened_images)\n",
    "Pca=pca.fit_transform(flattened_images)\n",
    "Pca.shape\n",
    "# # Split the data into training and testing sets\n",
    "X_train, X_test, y_train, y_test = train_test_split(Pca,y, test_size=0.1, random_state=42)\n",
    "\n",
    "\n"
   ]
  },
  {
   "cell_type": "code",
   "execution_count": 6,
   "id": "5c803062",
   "metadata": {},
   "outputs": [
    {
     "data": {
      "text/html": [
       "<style>#sk-container-id-1 {color: black;background-color: white;}#sk-container-id-1 pre{padding: 0;}#sk-container-id-1 div.sk-toggleable {background-color: white;}#sk-container-id-1 label.sk-toggleable__label {cursor: pointer;display: block;width: 100%;margin-bottom: 0;padding: 0.3em;box-sizing: border-box;text-align: center;}#sk-container-id-1 label.sk-toggleable__label-arrow:before {content: \"▸\";float: left;margin-right: 0.25em;color: #696969;}#sk-container-id-1 label.sk-toggleable__label-arrow:hover:before {color: black;}#sk-container-id-1 div.sk-estimator:hover label.sk-toggleable__label-arrow:before {color: black;}#sk-container-id-1 div.sk-toggleable__content {max-height: 0;max-width: 0;overflow: hidden;text-align: left;background-color: #f0f8ff;}#sk-container-id-1 div.sk-toggleable__content pre {margin: 0.2em;color: black;border-radius: 0.25em;background-color: #f0f8ff;}#sk-container-id-1 input.sk-toggleable__control:checked~div.sk-toggleable__content {max-height: 200px;max-width: 100%;overflow: auto;}#sk-container-id-1 input.sk-toggleable__control:checked~label.sk-toggleable__label-arrow:before {content: \"▾\";}#sk-container-id-1 div.sk-estimator input.sk-toggleable__control:checked~label.sk-toggleable__label {background-color: #d4ebff;}#sk-container-id-1 div.sk-label input.sk-toggleable__control:checked~label.sk-toggleable__label {background-color: #d4ebff;}#sk-container-id-1 input.sk-hidden--visually {border: 0;clip: rect(1px 1px 1px 1px);clip: rect(1px, 1px, 1px, 1px);height: 1px;margin: -1px;overflow: hidden;padding: 0;position: absolute;width: 1px;}#sk-container-id-1 div.sk-estimator {font-family: monospace;background-color: #f0f8ff;border: 1px dotted black;border-radius: 0.25em;box-sizing: border-box;margin-bottom: 0.5em;}#sk-container-id-1 div.sk-estimator:hover {background-color: #d4ebff;}#sk-container-id-1 div.sk-parallel-item::after {content: \"\";width: 100%;border-bottom: 1px solid gray;flex-grow: 1;}#sk-container-id-1 div.sk-label:hover label.sk-toggleable__label {background-color: #d4ebff;}#sk-container-id-1 div.sk-serial::before {content: \"\";position: absolute;border-left: 1px solid gray;box-sizing: border-box;top: 0;bottom: 0;left: 50%;z-index: 0;}#sk-container-id-1 div.sk-serial {display: flex;flex-direction: column;align-items: center;background-color: white;padding-right: 0.2em;padding-left: 0.2em;position: relative;}#sk-container-id-1 div.sk-item {position: relative;z-index: 1;}#sk-container-id-1 div.sk-parallel {display: flex;align-items: stretch;justify-content: center;background-color: white;position: relative;}#sk-container-id-1 div.sk-item::before, #sk-container-id-1 div.sk-parallel-item::before {content: \"\";position: absolute;border-left: 1px solid gray;box-sizing: border-box;top: 0;bottom: 0;left: 50%;z-index: -1;}#sk-container-id-1 div.sk-parallel-item {display: flex;flex-direction: column;z-index: 1;position: relative;background-color: white;}#sk-container-id-1 div.sk-parallel-item:first-child::after {align-self: flex-end;width: 50%;}#sk-container-id-1 div.sk-parallel-item:last-child::after {align-self: flex-start;width: 50%;}#sk-container-id-1 div.sk-parallel-item:only-child::after {width: 0;}#sk-container-id-1 div.sk-dashed-wrapped {border: 1px dashed gray;margin: 0 0.4em 0.5em 0.4em;box-sizing: border-box;padding-bottom: 0.4em;background-color: white;}#sk-container-id-1 div.sk-label label {font-family: monospace;font-weight: bold;display: inline-block;line-height: 1.2em;}#sk-container-id-1 div.sk-label-container {text-align: center;}#sk-container-id-1 div.sk-container {/* jupyter's `normalize.less` sets `[hidden] { display: none; }` but bootstrap.min.css set `[hidden] { display: none !important; }` so we also need the `!important` here to be able to override the default hidden behavior on the sphinx rendered scikit-learn.org. See: https://github.com/scikit-learn/scikit-learn/issues/21755 */display: inline-block !important;position: relative;}#sk-container-id-1 div.sk-text-repr-fallback {display: none;}</style><div id=\"sk-container-id-1\" class=\"sk-top-container\"><div class=\"sk-text-repr-fallback\"><pre>SVC(kernel=&#x27;poly&#x27;, random_state=21)</pre><b>In a Jupyter environment, please rerun this cell to show the HTML representation or trust the notebook. <br />On GitHub, the HTML representation is unable to render, please try loading this page with nbviewer.org.</b></div><div class=\"sk-container\" hidden><div class=\"sk-item\"><div class=\"sk-estimator sk-toggleable\"><input class=\"sk-toggleable__control sk-hidden--visually\" id=\"sk-estimator-id-1\" type=\"checkbox\" checked><label for=\"sk-estimator-id-1\" class=\"sk-toggleable__label sk-toggleable__label-arrow\">SVC</label><div class=\"sk-toggleable__content\"><pre>SVC(kernel=&#x27;poly&#x27;, random_state=21)</pre></div></div></div></div></div>"
      ],
      "text/plain": [
       "SVC(kernel='poly', random_state=21)"
      ]
     },
     "execution_count": 6,
     "metadata": {},
     "output_type": "execute_result"
    }
   ],
   "source": [
    "from sklearn.svm import SVC\n",
    "svc = SVC(kernel='poly', C=1.0, random_state=21)\n",
    "svc.fit( X_train, y_train)\n"
   ]
  },
  {
   "cell_type": "code",
   "execution_count": 7,
   "id": "0a10e42e",
   "metadata": {},
   "outputs": [
    {
     "name": "stdout",
     "output_type": "stream",
     "text": [
      "Accuracy: 0.9636363636363636\n"
     ]
    }
   ],
   "source": [
    "# # Predict the labels for the test data\n",
    "y_pred = svc.predict(X_test)\n",
    "\n",
    "# # Evaluate the performance of the classifier\n",
    "accuracy = svc.score(X_test, y_test)\n",
    "print(\"Accuracy:\", accuracy)"
   ]
  },
  {
   "cell_type": "code",
   "execution_count": 8,
   "id": "32766c64",
   "metadata": {},
   "outputs": [
    {
     "name": "stdout",
     "output_type": "stream",
     "text": [
      "normal\n",
      "normal\n",
      "Bengin\n"
     ]
    }
   ],
   "source": [
    "def detect_face(real_image_path):\n",
    "    real_image = cv2.imread(real_image_path, cv2.IMREAD_GRAYSCALE)\n",
    "    \n",
    "    resized_gray_image = cv2.resize(real_image, (400,400))\n",
    "\n",
    "    # Flatten the real image\n",
    "    flattened_real_image = resized_gray_image.flatten()\n",
    "    # print(flattened_real_image.shape)\n",
    "    # Apply PCA transformation\n",
    "    pca_real_image = pca.transform([flattened_real_image])\n",
    "    #rint(pca_real_image)\n",
    "\n",
    "    # Predict using the trained SVM classifier\n",
    "    predicted_label = svc.predict(pca_real_image)\n",
    "    if predicted_label[0]==0:\n",
    "        print(\"normal\")\n",
    "    elif predicted_label[0]==1:\n",
    "        print(\"Malignant\")\n",
    "    elif predicted_label[0]==2:\n",
    "        print(\"Bengin\")    \n",
    "    \n",
    "image_path=[\"Normal case (12).jpg\",\"000020_04_01_159.png\",\"Bengin case (13).jpg\"]\n",
    "for i in range(len(image_path)):\n",
    "    detect_face(image_path[i])\n"
   ]
  },
  {
   "cell_type": "code",
   "execution_count": 9,
   "id": "199ce932",
   "metadata": {},
   "outputs": [
    {
     "data": {
      "text/plain": [
       "[' Pca_model.pkl']"
      ]
     },
     "execution_count": 9,
     "metadata": {},
     "output_type": "execute_result"
    }
   ],
   "source": [
    "import joblib\n",
    "\n",
    "# Assuming `model` is your trained scikit-learn model\n",
    "joblib.dump(svc, 'my_model.pkl')\n",
    "joblib.dump(Pca,\" Pca_model.pkl\")"
   ]
  },
  {
   "cell_type": "code",
   "execution_count": null,
   "id": "86893dfd",
   "metadata": {},
   "outputs": [],
   "source": [
    "! "
   ]
  },
  {
   "cell_type": "code",
   "execution_count": null,
   "id": "60393daa",
   "metadata": {},
   "outputs": [],
   "source": []
  }
 ],
 "metadata": {
  "kernelspec": {
   "display_name": "Python 3 (ipykernel)",
   "language": "python",
   "name": "python3"
  },
  "language_info": {
   "codemirror_mode": {
    "name": "ipython",
    "version": 3
   },
   "file_extension": ".py",
   "mimetype": "text/x-python",
   "name": "python",
   "nbconvert_exporter": "python",
   "pygments_lexer": "ipython3",
   "version": "3.10.9"
  }
 },
 "nbformat": 4,
 "nbformat_minor": 5
}
